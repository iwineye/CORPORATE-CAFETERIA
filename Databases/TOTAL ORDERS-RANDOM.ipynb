{
 "cells": [
  {
   "cell_type": "code",
   "execution_count": 285,
   "id": "cb5f4993",
   "metadata": {},
   "outputs": [],
   "source": [
    "#importing libraries \n",
    "\n",
    "import pandas as pd\n",
    "import random\n",
    "import numpy as np\n",
    "from datetime import date\n",
    "from datetime import timedelta\n",
    "import time\n",
    "import datetime\n"
   ]
  },
  {
   "cell_type": "code",
   "execution_count": 286,
   "id": "30e2b6f9",
   "metadata": {},
   "outputs": [],
   "source": [
    "#initializing with start date of the data geanerated\n",
    "\n",
    "start_date = datetime.date(2023,6,1)"
   ]
  },
  {
   "cell_type": "code",
   "execution_count": 287,
   "id": "f6689c5b",
   "metadata": {},
   "outputs": [
    {
     "data": {
      "text/plain": [
       "datetime.date(2023, 6, 1)"
      ]
     },
     "execution_count": 287,
     "metadata": {},
     "output_type": "execute_result"
    }
   ],
   "source": [
    "start_date"
   ]
  },
  {
   "cell_type": "code",
   "execution_count": 288,
   "id": "2a80ee9c",
   "metadata": {
    "scrolled": true
   },
   "outputs": [
    {
     "name": "stdout",
     "output_type": "stream",
     "text": [
      "Creating list of 90 dates starting from 2023-06-01\n"
     ]
    }
   ],
   "source": [
    "#If you want dates upto todaystart_date = date.today()\n",
    "# periods means how many days of dates you want\n",
    "\n",
    "date_list = pd.date_range(start_date, periods=90, freq='D')\n",
    "print(f\"Creating list of 90 dates starting from {start_date}\")\n"
   ]
  },
  {
   "cell_type": "code",
   "execution_count": 289,
   "id": "52734471",
   "metadata": {},
   "outputs": [],
   "source": [
    "#date\n",
    "df=pd.DataFrame(columns=['date'])\n",
    "date=random.choices(date_list,k=3042)\n",
    "dat=date"
   ]
  },
  {
   "cell_type": "code",
   "execution_count": 290,
   "id": "827eb354",
   "metadata": {},
   "outputs": [
    {
     "data": {
      "text/plain": [
       "Timestamp('2023-06-06 00:00:00', freq='D')"
      ]
     },
     "execution_count": 290,
     "metadata": {},
     "output_type": "execute_result"
    }
   ],
   "source": [
    "dat[1]"
   ]
  },
  {
   "cell_type": "code",
   "execution_count": 291,
   "id": "675268d0",
   "metadata": {},
   "outputs": [],
   "source": [
    "#creating daataframe with columns\n",
    "df= pd.DataFrame( columns= [\"date\",\"row_id\",\"order_id\",\"emp_id\",\"item_id\",\"quantity\",\"item_price\"])\n"
   ]
  },
  {
   "cell_type": "code",
   "execution_count": 292,
   "id": "7a621d66",
   "metadata": {},
   "outputs": [
    {
     "data": {
      "text/html": [
       "<div>\n",
       "<style scoped>\n",
       "    .dataframe tbody tr th:only-of-type {\n",
       "        vertical-align: middle;\n",
       "    }\n",
       "\n",
       "    .dataframe tbody tr th {\n",
       "        vertical-align: top;\n",
       "    }\n",
       "\n",
       "    .dataframe thead th {\n",
       "        text-align: right;\n",
       "    }\n",
       "</style>\n",
       "<table border=\"1\" class=\"dataframe\">\n",
       "  <thead>\n",
       "    <tr style=\"text-align: right;\">\n",
       "      <th></th>\n",
       "      <th>date</th>\n",
       "      <th>row_id</th>\n",
       "      <th>order_id</th>\n",
       "      <th>emp_id</th>\n",
       "      <th>item_id</th>\n",
       "      <th>quantity</th>\n",
       "      <th>item_price</th>\n",
       "    </tr>\n",
       "  </thead>\n",
       "  <tbody>\n",
       "  </tbody>\n",
       "</table>\n",
       "</div>"
      ],
      "text/plain": [
       "Empty DataFrame\n",
       "Columns: [date, row_id, order_id, emp_id, item_id, quantity, item_price]\n",
       "Index: []"
      ]
     },
     "execution_count": 292,
     "metadata": {},
     "output_type": "execute_result"
    }
   ],
   "source": [
    "df"
   ]
  },
  {
   "cell_type": "code",
   "execution_count": 293,
   "id": "0f8de7b6",
   "metadata": {},
   "outputs": [
    {
     "name": "stdout",
     "output_type": "stream",
     "text": [
      "None\n"
     ]
    }
   ],
   "source": [
    "#sorting dates\n",
    "print(date.sort())\n",
    "#print(date)"
   ]
  },
  {
   "cell_type": "code",
   "execution_count": 294,
   "id": "e15ccbfb",
   "metadata": {},
   "outputs": [
    {
     "data": {
      "text/plain": [
       "3042"
      ]
     },
     "execution_count": 294,
     "metadata": {},
     "output_type": "execute_result"
    }
   ],
   "source": [
    "len(date)"
   ]
  },
  {
   "cell_type": "code",
   "execution_count": 295,
   "id": "132da3aa",
   "metadata": {},
   "outputs": [
    {
     "name": "stdout",
     "output_type": "stream",
     "text": [
      "<class 'list'>\n"
     ]
    }
   ],
   "source": [
    "#generating list of 250 employee ids \n",
    "eid_list=list(range(1001,1250))\n",
    "print(type(eid_list))\n"
   ]
  },
  {
   "cell_type": "code",
   "execution_count": 296,
   "id": "fcaa28cf",
   "metadata": {},
   "outputs": [],
   "source": [
    "#eid_list"
   ]
  },
  {
   "cell_type": "code",
   "execution_count": 297,
   "id": "1d8c3398",
   "metadata": {},
   "outputs": [],
   "source": [
    "#Generating randomized data of orders using employee id\n",
    "df=pd.DataFrame(columns=['emp_id'])\n",
    "emp_id=random.choices(eid_list,k=3042)\n",
    "emp=emp_id\n"
   ]
  },
  {
   "cell_type": "code",
   "execution_count": 298,
   "id": "528feeb3",
   "metadata": {},
   "outputs": [],
   "source": [
    "# creating list of ordered items with list of item id\n",
    "df=pd.DataFrame(columns=['item_id'])\n",
    "size=['01','02','03','04','05','06','07','08','09','10','11','12','13','14']\n",
    "item_id=random.choices(size,k=3042)\n",
    "item=item_id"
   ]
  },
  {
   "cell_type": "code",
   "execution_count": 299,
   "id": "1cbbf4f8",
   "metadata": {},
   "outputs": [
    {
     "name": "stdout",
     "output_type": "stream",
     "text": [
      "<class 'list'>\n"
     ]
    }
   ],
   "source": [
    "# creating the list of order_id \n",
    "s_list=list(range(1,3043))\n",
    "print(type(s_list))\n"
   ]
  },
  {
   "cell_type": "code",
   "execution_count": 300,
   "id": "96b0b960",
   "metadata": {},
   "outputs": [],
   "source": [
    "#creating a list of randomized quantity of orders \n",
    "df=pd.DataFrame(columns=['quantity'])\n",
    "size=['1','2','3']\n",
    "quantity=random.choices(size,k=3042)\n",
    "quant=quantity"
   ]
  },
  {
   "cell_type": "code",
   "execution_count": 301,
   "id": "7eb20708",
   "metadata": {},
   "outputs": [
    {
     "data": {
      "text/plain": [
       "3042"
      ]
     },
     "execution_count": 301,
     "metadata": {},
     "output_type": "execute_result"
    }
   ],
   "source": [
    "#checking the length of each list of data\n",
    "len(s_list)\n",
    "len(s_list)\n",
    "len(emp)\n",
    "len(item_id)\n",
    "len(quantity)"
   ]
  },
  {
   "cell_type": "code",
   "execution_count": 302,
   "id": "afdbb6e7",
   "metadata": {},
   "outputs": [],
   "source": [
    "#assigning values to the columns of the dataframe\n",
    "data={'date':date,'order_id':s_list,'emp_id':emp,'item_id':item_id,'quantity':quant}"
   ]
  },
  {
   "cell_type": "code",
   "execution_count": 303,
   "id": "72839153",
   "metadata": {},
   "outputs": [],
   "source": [
    "df = pd.DataFrame(data)"
   ]
  },
  {
   "cell_type": "code",
   "execution_count": 304,
   "id": "89feb33a",
   "metadata": {},
   "outputs": [],
   "source": [
    "#mapping values of item id with the declared item cost\n",
    "def map_values(row, values_dict):\n",
    "    return values_dict[row]\n",
    "values_dict={'01':'30','02':'30','03':'30','04':'150','05':'225','06':'250','07':'150',\n",
    "             '08':'250','09':'300','10':'150','11':'125','12':'150','13':'125','14':'125'}\n",
    "df['item_price']=df['item_id'].apply(map_values, args=(values_dict,))\n"
   ]
  },
  {
   "cell_type": "code",
   "execution_count": 305,
   "id": "e6ed146e",
   "metadata": {},
   "outputs": [
    {
     "name": "stdout",
     "output_type": "stream",
     "text": [
      "20231120-163458\n"
     ]
    }
   ],
   "source": [
    "#creating a time stamp to sale as file name\n",
    "timestr = time.strftime(\"%Y%m%d-%H%M%S\")\n",
    "print(timestr)\n",
    "#converting into string format\n",
    "str_current_datetime = str(timestr)\n"
   ]
  },
  {
   "cell_type": "code",
   "execution_count": 306,
   "id": "48e3528a",
   "metadata": {},
   "outputs": [],
   "source": [
    "#converting the string values of item price into int values\n",
    "df[\"item_price\"] = df[\"item_price\"].astype(str).astype(int)"
   ]
  },
  {
   "cell_type": "code",
   "execution_count": 307,
   "id": "5788f79d",
   "metadata": {},
   "outputs": [
    {
     "name": "stdout",
     "output_type": "stream",
     "text": [
      "<class 'str'>\n"
     ]
    }
   ],
   "source": [
    "print(type('item_price'))"
   ]
  },
  {
   "cell_type": "code",
   "execution_count": 308,
   "id": "82a5861f",
   "metadata": {},
   "outputs": [
    {
     "data": {
      "text/html": [
       "<div>\n",
       "<style scoped>\n",
       "    .dataframe tbody tr th:only-of-type {\n",
       "        vertical-align: middle;\n",
       "    }\n",
       "\n",
       "    .dataframe tbody tr th {\n",
       "        vertical-align: top;\n",
       "    }\n",
       "\n",
       "    .dataframe thead th {\n",
       "        text-align: right;\n",
       "    }\n",
       "</style>\n",
       "<table border=\"1\" class=\"dataframe\">\n",
       "  <thead>\n",
       "    <tr style=\"text-align: right;\">\n",
       "      <th></th>\n",
       "      <th>date</th>\n",
       "      <th>order_id</th>\n",
       "      <th>emp_id</th>\n",
       "      <th>item_id</th>\n",
       "      <th>quantity</th>\n",
       "      <th>item_price</th>\n",
       "    </tr>\n",
       "  </thead>\n",
       "  <tbody>\n",
       "    <tr>\n",
       "      <th>0</th>\n",
       "      <td>2023-06-01</td>\n",
       "      <td>1</td>\n",
       "      <td>1144</td>\n",
       "      <td>10</td>\n",
       "      <td>3</td>\n",
       "      <td>150</td>\n",
       "    </tr>\n",
       "    <tr>\n",
       "      <th>1</th>\n",
       "      <td>2023-06-01</td>\n",
       "      <td>2</td>\n",
       "      <td>1217</td>\n",
       "      <td>06</td>\n",
       "      <td>2</td>\n",
       "      <td>250</td>\n",
       "    </tr>\n",
       "    <tr>\n",
       "      <th>2</th>\n",
       "      <td>2023-06-01</td>\n",
       "      <td>3</td>\n",
       "      <td>1047</td>\n",
       "      <td>04</td>\n",
       "      <td>2</td>\n",
       "      <td>150</td>\n",
       "    </tr>\n",
       "    <tr>\n",
       "      <th>3</th>\n",
       "      <td>2023-06-01</td>\n",
       "      <td>4</td>\n",
       "      <td>1202</td>\n",
       "      <td>13</td>\n",
       "      <td>2</td>\n",
       "      <td>125</td>\n",
       "    </tr>\n",
       "    <tr>\n",
       "      <th>4</th>\n",
       "      <td>2023-06-01</td>\n",
       "      <td>5</td>\n",
       "      <td>1181</td>\n",
       "      <td>06</td>\n",
       "      <td>2</td>\n",
       "      <td>250</td>\n",
       "    </tr>\n",
       "  </tbody>\n",
       "</table>\n",
       "</div>"
      ],
      "text/plain": [
       "        date  order_id  emp_id item_id quantity  item_price\n",
       "0 2023-06-01         1    1144      10        3         150\n",
       "1 2023-06-01         2    1217      06        2         250\n",
       "2 2023-06-01         3    1047      04        2         150\n",
       "3 2023-06-01         4    1202      13        2         125\n",
       "4 2023-06-01         5    1181      06        2         250"
      ]
     },
     "execution_count": 308,
     "metadata": {},
     "output_type": "execute_result"
    }
   ],
   "source": [
    "#final data frame\n",
    "df.head()"
   ]
  },
  {
   "cell_type": "code",
   "execution_count": 41,
   "id": "2b4e015b",
   "metadata": {},
   "outputs": [
    {
     "name": "stdout",
     "output_type": "stream",
     "text": [
      "File created None\n"
     ]
    }
   ],
   "source": [
    "#saving the data as excel file with time of running as file name.\n",
    "file_name = str_current_datetime+\".xlsx\"\n",
    "order_data=df.to_excel(file_name,index= False)\n",
    "print('File created',order_data)"
   ]
  },
  {
   "cell_type": "code",
   "execution_count": 42,
   "id": "89a0ee22",
   "metadata": {},
   "outputs": [
    {
     "data": {
      "text/plain": [
       "'20231120-160147.xlsx'"
      ]
     },
     "execution_count": 42,
     "metadata": {},
     "output_type": "execute_result"
    }
   ],
   "source": [
    "#displaying file name\n",
    "file_name"
   ]
  },
  {
   "cell_type": "code",
   "execution_count": null,
   "id": "4d73e0d9",
   "metadata": {},
   "outputs": [],
   "source": [
    "\n",
    "    "
   ]
  }
 ],
 "metadata": {
  "kernelspec": {
   "display_name": "Python 3 (ipykernel)",
   "language": "python",
   "name": "python3"
  },
  "language_info": {
   "codemirror_mode": {
    "name": "ipython",
    "version": 3
   },
   "file_extension": ".py",
   "mimetype": "text/x-python",
   "name": "python",
   "nbconvert_exporter": "python",
   "pygments_lexer": "ipython3",
   "version": "3.9.7"
  }
 },
 "nbformat": 4,
 "nbformat_minor": 5
}
